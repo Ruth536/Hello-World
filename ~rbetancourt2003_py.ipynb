{
  "nbformat": 4,
  "nbformat_minor": 0,
  "metadata": {
    "colab": {
      "name": "~rbetancourt2003.py",
      "provenance": [],
      "collapsed_sections": [],
      "authorship_tag": "ABX9TyNcqX4UguNLNSt8fxnEhCnT",
      "include_colab_link": true
    },
    "kernelspec": {
      "name": "python3",
      "display_name": "Python 3"
    },
    "language_info": {
      "name": "python"
    }
  },
  "cells": [
    {
      "cell_type": "markdown",
      "metadata": {
        "id": "view-in-github",
        "colab_type": "text"
      },
      "source": [
        "<a href=\"https://colab.research.google.com/github/Ruth536/Hello-World/blob/main/~rbetancourt2003_py.ipynb\" target=\"_parent\"><img src=\"https://colab.research.google.com/assets/colab-badge.svg\" alt=\"Open In Colab\"/></a>"
      ]
    },
    {
      "cell_type": "code",
      "metadata": {
        "colab": {
          "base_uri": "https://localhost:8080/"
        },
        "id": "cf1HBktSARRQ",
        "outputId": "87f20ac7-ad1b-48f1-821e-16646b8c5282"
      },
      "source": [
        "###########################################################################\n",
        "### COP 4045 - Python Programming - Dr. Oge Marques - FAU - Summer 2021 ###\n",
        "###            Assignment 1: Student Introduction (in Python!)          ###\n",
        "###########################################################################\n",
        "# Instructions:# 1. Run the program \"as is\"\n",
        "# 2. Save a copy with your FAU username + the '.py' extension\n",
        "# 3. Modify the code to reflect your name, major, gpa, and hobbies\n",
        "# 4. Debug and test your code\n",
        "# 5. Once it's working as intended, submit your .py file via Canvas\n",
        "# 6. (BONUS) Post your code on a shareable Jupyter site (e.g., Google Colab [1] \n",
        "# or Binder [2]) and submit the URl via Canvas\n",
        "# [1] https://colab.research.google.com/notebooks/intro.ipynb \n",
        "# [2] https://github.com/alan-turing-institute/the-turing-way/blob/master/\n",
        "#workshops/boost-research-reproducibility-binder/workshop-presentations/\n",
        "# zero-to-binder-python.md\n",
        "###########################################################################\n",
        "name = \"Ruth Betancourt\"\n",
        "academic_status = {\"major\": \"Computer Science\", \"gpa\": 3.57}\n",
        "hobbies = ['dancing', 'singing', 'cooking']\n",
        "likes = \"My hobbies are: \\n\"\n",
        "for hobby in hobbies:    \n",
        "  likes = likes + hobby + \"\\n\"\n",
        "if academic_status['gpa'] == 4.0:    \n",
        "    rating = \"perfect\"\n",
        "elif  academic_status['gpa'] >= 3.0:    \n",
        "      rating = \"very good\"\n",
        "else:    rating = \"not-so-good\"\n",
        "print(f\"My name is {name} \\n\")\n",
        "print(f\"I am majoring in {academic_status['major']} and my GPA is {academic_status['gpa']}, which is considered {rating}\\n\")\n",
        "print(likes)"
      ],
      "execution_count": null,
      "outputs": [
        {
          "output_type": "stream",
          "text": [
            "My name is Ruth Betancourt \n",
            "\n",
            "I am majoring in Computer Science and my GPA is 3.57, which is considered very good\n",
            "\n",
            "My hobbies are: \n",
            "dancing\n",
            "singing\n",
            "cooking\n",
            "\n"
          ],
          "name": "stdout"
        }
      ]
    },
    {
      "cell_type": "markdown",
      "metadata": {
        "id": "ypr75VeiQFrr"
      },
      "source": [
        "# New Section"
      ]
    },
    {
      "cell_type": "code",
      "metadata": {
        "id": "_q36BbgOEbT6"
      },
      "source": [
        ""
      ],
      "execution_count": null,
      "outputs": []
    }
  ]
}